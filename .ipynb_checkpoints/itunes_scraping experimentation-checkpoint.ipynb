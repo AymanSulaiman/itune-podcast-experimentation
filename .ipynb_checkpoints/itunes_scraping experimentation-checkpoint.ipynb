{
 "cells": [
  {
   "cell_type": "code",
   "execution_count": 1,
   "metadata": {},
   "outputs": [],
   "source": [
    "import requests\n",
    "import pandas as pd\n",
    "import numpy as np\n",
    "import matplotlib.pyplot as plt\n",
    "from pprint import pprint"
   ]
  },
  {
   "cell_type": "markdown",
   "metadata": {},
   "source": [
    "Wisecrack"
   ]
  },
  {
   "cell_type": "code",
   "execution_count": 2,
   "metadata": {},
   "outputs": [
    {
     "data": {
      "text/plain": [
       "['https://squanch.libsyn.com/rss',\n",
       " 'https://feeds.megaphone.fm/showmethemeaning',\n",
       " 'https://thugnotes.libsyn.com/rss',\n",
       " 'https://southpark.libsyn.com/rss',\n",
       " 'https://wisecrack-westworld.libsyn.com/rss',\n",
       " 'https://wisecrack.libsyn.com/rss',\n",
       " 'https://blackstage.libsyn.com/rss',\n",
       " 'https://anchor.fm/s/2ba89fa0/podcast/rss',\n",
       " 'https://feeds.captivate.fm/wisecracks-radio-hour/',\n",
       " 'http://www.consideritcorrespondence.com/wisecracks-pod?format=rss',\n",
       " 'https://anchor.fm/s/207bf1a4/podcast/rss']"
      ]
     },
     "execution_count": 2,
     "metadata": {},
     "output_type": "execute_result"
    }
   ],
   "source": [
    "response_wisecrack = requests.get('https://itunes.apple.com/search?term=Wisecrack&entity=podcast')\n",
    "# pprint(response_wisecrack.json()['results'][0], indent=4)\n",
    "wisecrack_urls = [response_wisecrack.json()['results'][i]['feedUrl'] for i in range(len(response_wisecrack.json()['results']))]\n",
    "wisecrack_urls"
   ]
  },
  {
   "cell_type": "markdown",
   "metadata": {},
   "source": [
    "Smoshcast"
   ]
  },
  {
   "cell_type": "code",
   "execution_count": 3,
   "metadata": {},
   "outputs": [
    {
     "data": {
      "text/plain": [
       "['http://feeds.feedburner.com/smoshcast']"
      ]
     },
     "execution_count": 3,
     "metadata": {},
     "output_type": "execute_result"
    }
   ],
   "source": [
    "response_smoshcast = requests.get('https://itunes.apple.com/search?term=smoshcast&entity=podcast')\n",
    "# pprint(response_smoshcast.json()['results'][0], indent=4)\n",
    "smoshcast_feedurl = [response_smoshcast.json()['results'][i]['feedUrl'] for i in range(len(response_smoshcast.json()['results']))]\n",
    "smoshcast_feedurl"
   ]
  },
  {
   "cell_type": "code",
   "execution_count": 9,
   "metadata": {},
   "outputs": [
    {
     "data": {
      "text/plain": [
       "{'resultCount': 1,\n",
       " 'results': [{'wrapperType': 'track',\n",
       "   'kind': 'podcast',\n",
       "   'artistId': 1436641505,\n",
       "   'collectionId': 1453555416,\n",
       "   'trackId': 1453555416,\n",
       "   'artistName': 'Smosh & Ramble',\n",
       "   'collectionName': 'SmoshCast',\n",
       "   'trackName': 'SmoshCast',\n",
       "   'collectionCensoredName': 'SmoshCast',\n",
       "   'trackCensoredName': 'SmoshCast',\n",
       "   'artistViewUrl': 'https://podcasts.apple.com/us/artist/ramble/1436641505?uo=4',\n",
       "   'collectionViewUrl': 'https://podcasts.apple.com/us/podcast/smoshcast/id1453555416?uo=4',\n",
       "   'feedUrl': 'http://feeds.feedburner.com/smoshcast',\n",
       "   'trackViewUrl': 'https://podcasts.apple.com/us/podcast/smoshcast/id1453555416?uo=4',\n",
       "   'artworkUrl30': 'https://is4-ssl.mzstatic.com/image/thumb/Podcasts123/v4/95/1d/06/951d06a8-8967-c6b1-63c8-3d3fe2605e60/mza_7182576317131546231.jpeg/30x30bb.jpg',\n",
       "   'artworkUrl60': 'https://is4-ssl.mzstatic.com/image/thumb/Podcasts123/v4/95/1d/06/951d06a8-8967-c6b1-63c8-3d3fe2605e60/mza_7182576317131546231.jpeg/60x60bb.jpg',\n",
       "   'artworkUrl100': 'https://is4-ssl.mzstatic.com/image/thumb/Podcasts123/v4/95/1d/06/951d06a8-8967-c6b1-63c8-3d3fe2605e60/mza_7182576317131546231.jpeg/100x100bb.jpg',\n",
       "   'collectionPrice': 0.0,\n",
       "   'trackPrice': 0.0,\n",
       "   'trackRentalPrice': 0,\n",
       "   'collectionHdPrice': 0,\n",
       "   'trackHdPrice': 0,\n",
       "   'trackHdRentalPrice': 0,\n",
       "   'releaseDate': '2020-08-26T10:01:00Z',\n",
       "   'collectionExplicitness': 'cleaned',\n",
       "   'trackExplicitness': 'cleaned',\n",
       "   'trackCount': 79,\n",
       "   'country': 'USA',\n",
       "   'currency': 'USD',\n",
       "   'primaryGenreName': 'Comedy Interviews',\n",
       "   'contentAdvisoryRating': 'Clean',\n",
       "   'artworkUrl600': 'https://is4-ssl.mzstatic.com/image/thumb/Podcasts123/v4/95/1d/06/951d06a8-8967-c6b1-63c8-3d3fe2605e60/mza_7182576317131546231.jpeg/600x600bb.jpg',\n",
       "   'genreIds': ['1496', '26', '1303'],\n",
       "   'genres': ['Comedy Interviews', 'Podcasts', 'Comedy']}]}"
      ]
     },
     "execution_count": 9,
     "metadata": {},
     "output_type": "execute_result"
    }
   ],
   "source": [
    "response_smoshcast.json()"
   ]
  },
  {
   "cell_type": "markdown",
   "metadata": {},
   "source": [
    "Practical AI"
   ]
  },
  {
   "cell_type": "code",
   "execution_count": 4,
   "metadata": {},
   "outputs": [
    {
     "data": {
      "text/plain": [
       "['https://changelog.com/practicalai/feed',\n",
       " 'https://anchor.fm/s/c08f690/podcast/rss']"
      ]
     },
     "execution_count": 4,
     "metadata": {},
     "output_type": "execute_result"
    }
   ],
   "source": [
    "response_practical_ai = requests.get('https://itunes.apple.com/search?term=practical-ai&entity=podcast')\n",
    "# pprint(response_practical_ai.json()['results'][0], indent=4)\n",
    "practical_ai_feedurl = [response_practical_ai.json()['results'][i]['feedUrl'] for i in range(len(response_practical_ai.json()['results']))]\n",
    "practical_ai_feedurl"
   ]
  },
  {
   "cell_type": "markdown",
   "metadata": {},
   "source": [
    "Web Scraping"
   ]
  },
  {
   "cell_type": "code",
   "execution_count": 6,
   "metadata": {},
   "outputs": [
    {
     "name": "stdout",
     "output_type": "stream",
     "text": [
      "SmoshCast - powered by FeedBurner\n"
     ]
    }
   ],
   "source": [
    "from selenium import webdriver\n",
    "\n",
    "chrome_path = 'chromedriver.exe'\n",
    "driver = webdriver.Chrome(chrome_path)\n",
    "\n",
    "driver.get(smoshcast_feedurl[0])\n",
    "print(driver.title)\n",
    "driver.quit()"
   ]
  },
  {
   "cell_type": "code",
   "execution_count": 7,
   "metadata": {},
   "outputs": [],
   "source": [
    "from selenium import webdriver\n",
    "\n",
    "chrome_path = 'chromedriver.exe'\n",
    "driver = webdriver.Chrome(chrome_path)\n",
    "\n",
    "driver.get(wisecrack_urls[0])\n",
    "# search = driver.find_element_by_tag_name(\"h4\")\n",
    "# print(search)\n",
    "# print(driver.title)\n",
    "# driver.quit()"
   ]
  },
  {
   "cell_type": "code",
   "execution_count": null,
   "metadata": {},
   "outputs": [],
   "source": []
  },
  {
   "cell_type": "code",
   "execution_count": null,
   "metadata": {},
   "outputs": [],
   "source": []
  },
  {
   "cell_type": "code",
   "execution_count": null,
   "metadata": {},
   "outputs": [],
   "source": []
  },
  {
   "cell_type": "code",
   "execution_count": null,
   "metadata": {},
   "outputs": [],
   "source": []
  }
 ],
 "metadata": {
  "kernelspec": {
   "display_name": "Python 3",
   "language": "python",
   "name": "python3"
  },
  "language_info": {
   "codemirror_mode": {
    "name": "ipython",
    "version": 3
   },
   "file_extension": ".py",
   "mimetype": "text/x-python",
   "name": "python",
   "nbconvert_exporter": "python",
   "pygments_lexer": "ipython3",
   "version": "3.7.9"
  }
 },
 "nbformat": 4,
 "nbformat_minor": 4
}
